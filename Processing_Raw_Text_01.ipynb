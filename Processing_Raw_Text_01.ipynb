{
  "nbformat": 4,
  "nbformat_minor": 0,
  "metadata": {
    "colab": {
      "name": "Processing Raw Text_01.ipynb",
      "provenance": [],
      "collapsed_sections": [],
      "include_colab_link": true
    },
    "kernelspec": {
      "name": "python3",
      "display_name": "Python 3"
    },
    "language_info": {
      "name": "python"
    }
  },
  "cells": [
    {
      "cell_type": "markdown",
      "metadata": {
        "id": "view-in-github",
        "colab_type": "text"
      },
      "source": [
        "<a href=\"https://colab.research.google.com/github/RBT081294/NLP_Practicals/blob/main/Processing_Raw_Text_01.ipynb\" target=\"_parent\"><img src=\"https://colab.research.google.com/assets/colab-badge.svg\" alt=\"Open In Colab\"/></a>"
      ]
    },
    {
      "cell_type": "markdown",
      "metadata": {
        "id": "8tjuFZRttFrx"
      },
      "source": [
        "Processing Raw Text\n",
        "1.\tAccessing text from Web\n",
        "2.\tAccessing local text file\n",
        "3.\tAccessing text from PDF, Word and other Binary Format\n",
        "4.\tThe NLP pipeline\n",
        "\n",
        "\n"
      ]
    },
    {
      "cell_type": "markdown",
      "metadata": {
        "id": "jjAFhcD_tOvN"
      },
      "source": [
        "**1.\tAccessing text from Web**"
      ]
    },
    {
      "cell_type": "code",
      "metadata": {
        "id": "lAj64sO8-KfI"
      },
      "source": [
        "import nltk, re, pprint"
      ],
      "execution_count": 1,
      "outputs": []
    },
    {
      "cell_type": "code",
      "metadata": {
        "id": "vEj-Gf6f-OQv"
      },
      "source": [
        "from nltk import word_tokenize"
      ],
      "execution_count": 2,
      "outputs": []
    },
    {
      "cell_type": "code",
      "metadata": {
        "id": "aaF0v0yF88Ui"
      },
      "source": [
        "from urllib import request"
      ],
      "execution_count": 3,
      "outputs": []
    },
    {
      "cell_type": "code",
      "metadata": {
        "id": "2dv9NJel9Efe"
      },
      "source": [
        "url = \"http://www.gutenberg.org/files/2554/2554-0.txt\""
      ],
      "execution_count": 4,
      "outputs": []
    },
    {
      "cell_type": "code",
      "metadata": {
        "id": "FZ-NAiX99HRp"
      },
      "source": [
        "response = request.urlopen(url)"
      ],
      "execution_count": 5,
      "outputs": []
    },
    {
      "cell_type": "code",
      "metadata": {
        "id": "_sq7KGje9JYK"
      },
      "source": [
        "raw = response.read().decode('utf8')"
      ],
      "execution_count": 6,
      "outputs": []
    },
    {
      "cell_type": "code",
      "metadata": {
        "colab": {
          "base_uri": "https://localhost:8080/"
        },
        "id": "p_JpZwau9Ln-",
        "outputId": "8422c281-51ea-4ea0-b58f-fa7249413ceb"
      },
      "source": [
        "type(raw)"
      ],
      "execution_count": 7,
      "outputs": [
        {
          "output_type": "execute_result",
          "data": {
            "text/plain": [
              "str"
            ]
          },
          "metadata": {
            "tags": []
          },
          "execution_count": 7
        }
      ]
    },
    {
      "cell_type": "code",
      "metadata": {
        "colab": {
          "base_uri": "https://localhost:8080/"
        },
        "id": "vhqdp1NG9OtU",
        "outputId": "91ed5645-2f86-4395-8323-91cd5d76af3a"
      },
      "source": [
        "type(raw)"
      ],
      "execution_count": 8,
      "outputs": [
        {
          "output_type": "execute_result",
          "data": {
            "text/plain": [
              "str"
            ]
          },
          "metadata": {
            "tags": []
          },
          "execution_count": 8
        }
      ]
    },
    {
      "cell_type": "code",
      "metadata": {
        "colab": {
          "base_uri": "https://localhost:8080/",
          "height": 35
        },
        "id": "nDSbGSoW9Q7L",
        "outputId": "4d590cbe-e5d5-4f28-809c-ee4bfeac537c"
      },
      "source": [
        "raw[:75]"
      ],
      "execution_count": 9,
      "outputs": [
        {
          "output_type": "execute_result",
          "data": {
            "application/vnd.google.colaboratory.intrinsic+json": {
              "type": "string"
            },
            "text/plain": [
              "'\\ufeffThe Project Gutenberg EBook of Crime and Punishment, by Fyodor Dostoevsky\\r'"
            ]
          },
          "metadata": {
            "tags": []
          },
          "execution_count": 9
        }
      ]
    },
    {
      "cell_type": "code",
      "metadata": {
        "id": "_CwyZN7H-kwg"
      },
      "source": [
        "import nltk"
      ],
      "execution_count": 10,
      "outputs": []
    },
    {
      "cell_type": "code",
      "metadata": {
        "colab": {
          "base_uri": "https://localhost:8080/"
        },
        "id": "z9CKDL5F-oSb",
        "outputId": "d7318441-5e3e-416e-90e7-7d4a9d499de3"
      },
      "source": [
        "nltk.download('punkt')"
      ],
      "execution_count": 11,
      "outputs": [
        {
          "output_type": "stream",
          "text": [
            "[nltk_data] Downloading package punkt to /root/nltk_data...\n",
            "[nltk_data]   Unzipping tokenizers/punkt.zip.\n"
          ],
          "name": "stdout"
        },
        {
          "output_type": "execute_result",
          "data": {
            "text/plain": [
              "True"
            ]
          },
          "metadata": {
            "tags": []
          },
          "execution_count": 11
        }
      ]
    },
    {
      "cell_type": "code",
      "metadata": {
        "id": "7E-Vpf7v9rhL"
      },
      "source": [
        "tokens = word_tokenize(raw)"
      ],
      "execution_count": 12,
      "outputs": []
    },
    {
      "cell_type": "code",
      "metadata": {
        "colab": {
          "base_uri": "https://localhost:8080/"
        },
        "id": "Ex5PExSb-uE0",
        "outputId": "bd996283-3ec4-48bc-b540-dd4347cea721"
      },
      "source": [
        "type(tokens)"
      ],
      "execution_count": 13,
      "outputs": [
        {
          "output_type": "execute_result",
          "data": {
            "text/plain": [
              "list"
            ]
          },
          "metadata": {
            "tags": []
          },
          "execution_count": 13
        }
      ]
    },
    {
      "cell_type": "code",
      "metadata": {
        "colab": {
          "base_uri": "https://localhost:8080/"
        },
        "id": "3ENSV5da-wf7",
        "outputId": "186485ba-4b84-4a76-d7ac-0e56e6e3efa7"
      },
      "source": [
        "len(tokens)"
      ],
      "execution_count": 14,
      "outputs": [
        {
          "output_type": "execute_result",
          "data": {
            "text/plain": [
              "257727"
            ]
          },
          "metadata": {
            "tags": []
          },
          "execution_count": 14
        }
      ]
    },
    {
      "cell_type": "code",
      "metadata": {
        "colab": {
          "base_uri": "https://localhost:8080/"
        },
        "id": "PspCPUWZ-y7K",
        "outputId": "4a5ac95c-0dae-451a-eb96-fa75f31bd22e"
      },
      "source": [
        "tokens[:10]"
      ],
      "execution_count": 15,
      "outputs": [
        {
          "output_type": "execute_result",
          "data": {
            "text/plain": [
              "['\\ufeffThe',\n",
              " 'Project',\n",
              " 'Gutenberg',\n",
              " 'EBook',\n",
              " 'of',\n",
              " 'Crime',\n",
              " 'and',\n",
              " 'Punishment',\n",
              " ',',\n",
              " 'by']"
            ]
          },
          "metadata": {
            "tags": []
          },
          "execution_count": 15
        }
      ]
    },
    {
      "cell_type": "code",
      "metadata": {
        "id": "0kOuHY6p-1Hu"
      },
      "source": [
        "text = nltk.Text(tokens)"
      ],
      "execution_count": 16,
      "outputs": []
    },
    {
      "cell_type": "code",
      "metadata": {
        "colab": {
          "base_uri": "https://localhost:8080/"
        },
        "id": "BTFmDXMW-4B6",
        "outputId": "93aae360-c12b-47c2-aa02-330018dd3093"
      },
      "source": [
        "type(text)"
      ],
      "execution_count": 17,
      "outputs": [
        {
          "output_type": "execute_result",
          "data": {
            "text/plain": [
              "nltk.text.Text"
            ]
          },
          "metadata": {
            "tags": []
          },
          "execution_count": 17
        }
      ]
    },
    {
      "cell_type": "code",
      "metadata": {
        "colab": {
          "base_uri": "https://localhost:8080/"
        },
        "id": "h2EIUOqa-6EY",
        "outputId": "13fbcbf6-5eae-48e1-d167-31bcd9e750cd"
      },
      "source": [
        "text[1024:1062]"
      ],
      "execution_count": 18,
      "outputs": [
        {
          "output_type": "execute_result",
          "data": {
            "text/plain": [
              "['an',\n",
              " 'exceptionally',\n",
              " 'hot',\n",
              " 'evening',\n",
              " 'early',\n",
              " 'in',\n",
              " 'July',\n",
              " 'a',\n",
              " 'young',\n",
              " 'man',\n",
              " 'came',\n",
              " 'out',\n",
              " 'of',\n",
              " 'the',\n",
              " 'garret',\n",
              " 'in',\n",
              " 'which',\n",
              " 'he',\n",
              " 'lodged',\n",
              " 'in',\n",
              " 'S.',\n",
              " 'Place',\n",
              " 'and',\n",
              " 'walked',\n",
              " 'slowly',\n",
              " ',',\n",
              " 'as',\n",
              " 'though',\n",
              " 'in',\n",
              " 'hesitation',\n",
              " ',',\n",
              " 'towards',\n",
              " 'K.',\n",
              " 'bridge',\n",
              " '.',\n",
              " 'He',\n",
              " 'had',\n",
              " 'successfully']"
            ]
          },
          "metadata": {
            "tags": []
          },
          "execution_count": 18
        }
      ]
    },
    {
      "cell_type": "code",
      "metadata": {
        "colab": {
          "base_uri": "https://localhost:8080/"
        },
        "id": "-hNmfHi2-_uu",
        "outputId": "2dc5e103-decc-4b68-8a9f-4a044e4da90d"
      },
      "source": [
        "nltk.download('stopwords')"
      ],
      "execution_count": 19,
      "outputs": [
        {
          "output_type": "stream",
          "text": [
            "[nltk_data] Downloading package stopwords to /root/nltk_data...\n",
            "[nltk_data]   Unzipping corpora/stopwords.zip.\n"
          ],
          "name": "stdout"
        },
        {
          "output_type": "execute_result",
          "data": {
            "text/plain": [
              "True"
            ]
          },
          "metadata": {
            "tags": []
          },
          "execution_count": 19
        }
      ]
    },
    {
      "cell_type": "code",
      "metadata": {
        "colab": {
          "base_uri": "https://localhost:8080/"
        },
        "id": "_3LDANob-84I",
        "outputId": "e78d5a37-f041-4977-a5cb-1ef49ea7dfb5"
      },
      "source": [
        "text.collocations()"
      ],
      "execution_count": 20,
      "outputs": [
        {
          "output_type": "stream",
          "text": [
            "Katerina Ivanovna; Pyotr Petrovitch; Pulcheria Alexandrovna; Avdotya\n",
            "Romanovna; Rodion Romanovitch; Marfa Petrovna; Sofya Semyonovna; old\n",
            "woman; Project Gutenberg-tm; Porfiry Petrovitch; Amalia Ivanovna;\n",
            "great deal; young man; Nikodim Fomitch; Ilya Petrovitch; Project\n",
            "Gutenberg; Andrey Semyonovitch; Hay Market; Dmitri Prokofitch; Good\n",
            "heavens\n"
          ],
          "name": "stdout"
        }
      ]
    },
    {
      "cell_type": "code",
      "metadata": {
        "colab": {
          "base_uri": "https://localhost:8080/"
        },
        "id": "k4vKAkH7_Djv",
        "outputId": "fb0b011e-1e57-4500-c33d-affa2bee38f9"
      },
      "source": [
        "raw.find(\"PART I\")"
      ],
      "execution_count": 21,
      "outputs": [
        {
          "output_type": "execute_result",
          "data": {
            "text/plain": [
              "5336"
            ]
          },
          "metadata": {
            "tags": []
          },
          "execution_count": 21
        }
      ]
    },
    {
      "cell_type": "code",
      "metadata": {
        "colab": {
          "base_uri": "https://localhost:8080/"
        },
        "id": "pQajj62G_Gx_",
        "outputId": "056d49e4-25e5-4b90-e3d7-b67e5154afad"
      },
      "source": [
        "raw.rfind(\"End of Project Gutenberg's Crime\")"
      ],
      "execution_count": 22,
      "outputs": [
        {
          "output_type": "execute_result",
          "data": {
            "text/plain": [
              "-1"
            ]
          },
          "metadata": {
            "tags": []
          },
          "execution_count": 22
        }
      ]
    },
    {
      "cell_type": "code",
      "metadata": {
        "id": "oHM7uLVh_KwS"
      },
      "source": [
        "raw = raw[5338:1157743]"
      ],
      "execution_count": 23,
      "outputs": []
    },
    {
      "cell_type": "code",
      "metadata": {
        "colab": {
          "base_uri": "https://localhost:8080/"
        },
        "id": "FwhjMBK4_Oog",
        "outputId": "8d8f3e0e-4d41-4cd6-f50a-7f8afabc7152"
      },
      "source": [
        "raw.find(\"PART I\")"
      ],
      "execution_count": 24,
      "outputs": [
        {
          "output_type": "execute_result",
          "data": {
            "text/plain": [
              "195769"
            ]
          },
          "metadata": {
            "tags": []
          },
          "execution_count": 24
        }
      ]
    },
    {
      "cell_type": "markdown",
      "metadata": {
        "id": "g71vFjxmGFP1"
      },
      "source": [
        "**2.\tAccessing local text file**"
      ]
    },
    {
      "cell_type": "code",
      "metadata": {
        "id": "WHhhXIX__gGf"
      },
      "source": [
        "f = open('document.txt')"
      ],
      "execution_count": 36,
      "outputs": []
    },
    {
      "cell_type": "code",
      "metadata": {
        "id": "9rz_zU6HAamL"
      },
      "source": [
        "raw = f.read()"
      ],
      "execution_count": 37,
      "outputs": []
    },
    {
      "cell_type": "code",
      "metadata": {
        "id": "CXG1wkjFAelY"
      },
      "source": [
        "f = open('document.txt')"
      ],
      "execution_count": 38,
      "outputs": []
    },
    {
      "cell_type": "code",
      "metadata": {
        "id": "LBgCMXZuAhZR"
      },
      "source": [
        "import os"
      ],
      "execution_count": 39,
      "outputs": []
    },
    {
      "cell_type": "code",
      "metadata": {
        "colab": {
          "base_uri": "https://localhost:8080/"
        },
        "id": "ifvRUgrGAlzb",
        "outputId": "039c0fd0-9293-4522-f9c6-30c01ab39c89"
      },
      "source": [
        "os.listdir('.')"
      ],
      "execution_count": 40,
      "outputs": [
        {
          "output_type": "execute_result",
          "data": {
            "text/plain": [
              "['.config', 'document.txt', '.ipynb_checkpoints', 'sample_data']"
            ]
          },
          "metadata": {
            "tags": []
          },
          "execution_count": 40
        }
      ]
    },
    {
      "cell_type": "code",
      "metadata": {
        "colab": {
          "base_uri": "https://localhost:8080/",
          "height": 35
        },
        "id": "EZilwoeuAoxV",
        "outputId": "67c22185-e853-4b0e-bdf9-3fb1ce526ab8"
      },
      "source": [
        "f.read()"
      ],
      "execution_count": 41,
      "outputs": [
        {
          "output_type": "execute_result",
          "data": {
            "application/vnd.google.colaboratory.intrinsic+json": {
              "type": "string"
            },
            "text/plain": [
              "\"Hello All, I'm Rajesh Tiwari.\""
            ]
          },
          "metadata": {
            "tags": []
          },
          "execution_count": 41
        }
      ]
    },
    {
      "cell_type": "code",
      "metadata": {
        "colab": {
          "base_uri": "https://localhost:8080/"
        },
        "id": "RFXb6ymyAzHf",
        "outputId": "84fdd76a-1480-4207-e086-a8511ee89e94"
      },
      "source": [
        "f = open('document.txt', 'rU')"
      ],
      "execution_count": 42,
      "outputs": [
        {
          "output_type": "stream",
          "text": [
            "/usr/local/lib/python3.7/dist-packages/ipykernel_launcher.py:1: DeprecationWarning: 'U' mode is deprecated\n",
            "  \"\"\"Entry point for launching an IPython kernel.\n"
          ],
          "name": "stderr"
        }
      ]
    },
    {
      "cell_type": "code",
      "metadata": {
        "colab": {
          "base_uri": "https://localhost:8080/"
        },
        "id": "0IkQ_3blA5u1",
        "outputId": "4f166e8c-5db2-46ac-9c99-60ff9f6d047f"
      },
      "source": [
        "for line in f:\n",
        "...     print(line.strip())"
      ],
      "execution_count": 43,
      "outputs": [
        {
          "output_type": "stream",
          "text": [
            "Hello All, I'm Rajesh Tiwari.\n"
          ],
          "name": "stdout"
        }
      ]
    },
    {
      "cell_type": "code",
      "metadata": {
        "colab": {
          "base_uri": "https://localhost:8080/"
        },
        "id": "vCmXNnVcBEqb",
        "outputId": "1595f4cc-8633-4488-c6b8-16fdf9dd2e0e"
      },
      "source": [
        "nltk.download('gutenberg')"
      ],
      "execution_count": 44,
      "outputs": [
        {
          "output_type": "stream",
          "text": [
            "[nltk_data] Downloading package gutenberg to /root/nltk_data...\n",
            "[nltk_data]   Unzipping corpora/gutenberg.zip.\n"
          ],
          "name": "stdout"
        },
        {
          "output_type": "execute_result",
          "data": {
            "text/plain": [
              "True"
            ]
          },
          "metadata": {
            "tags": []
          },
          "execution_count": 44
        }
      ]
    },
    {
      "cell_type": "code",
      "metadata": {
        "id": "5TntpdvsBBcl"
      },
      "source": [
        "path = nltk.data.find('corpora/gutenberg/melville-moby_dick.txt')"
      ],
      "execution_count": 45,
      "outputs": []
    },
    {
      "cell_type": "code",
      "metadata": {
        "colab": {
          "base_uri": "https://localhost:8080/"
        },
        "id": "BeKlbfqVBJcn",
        "outputId": "c4f2194e-f26b-4d22-e902-b74c3a09ed90"
      },
      "source": [
        "raw = open(path, 'rU').read()"
      ],
      "execution_count": 46,
      "outputs": [
        {
          "output_type": "stream",
          "text": [
            "/usr/local/lib/python3.7/dist-packages/ipykernel_launcher.py:1: DeprecationWarning: 'U' mode is deprecated\n",
            "  \"\"\"Entry point for launching an IPython kernel.\n"
          ],
          "name": "stderr"
        }
      ]
    },
    {
      "cell_type": "markdown",
      "metadata": {
        "id": "cRs0KYBHGUr1"
      },
      "source": [
        "**3.\tAccessing text from PDF, Word and other Binary Format**"
      ]
    },
    {
      "cell_type": "code",
      "metadata": {
        "colab": {
          "base_uri": "https://localhost:8080/"
        },
        "id": "wLQE6xOpBOM_",
        "outputId": "41faf42d-9895-4e2b-c259-e84e0f02492a"
      },
      "source": [
        "s = input(\"Enter some text: \")"
      ],
      "execution_count": 47,
      "outputs": [
        {
          "output_type": "stream",
          "text": [
            "Enter some text: Rajesh Tiwari\n"
          ],
          "name": "stdout"
        }
      ]
    },
    {
      "cell_type": "code",
      "metadata": {
        "colab": {
          "base_uri": "https://localhost:8080/"
        },
        "id": "06TeK0J_BZ97",
        "outputId": "125314bb-d050-4422-8ec8-ed0e32643b1c"
      },
      "source": [
        "print(\"You typed\", len(word_tokenize(s)), \"words.\")"
      ],
      "execution_count": 48,
      "outputs": [
        {
          "output_type": "stream",
          "text": [
            "You typed 2 words.\n"
          ],
          "name": "stdout"
        }
      ]
    },
    {
      "cell_type": "markdown",
      "metadata": {
        "id": "AkWBEwkdFfEu"
      },
      "source": [
        "**4. The NLP Pipeline**"
      ]
    },
    {
      "cell_type": "code",
      "metadata": {
        "id": "2Sk5ynAmBh7L"
      },
      "source": [
        "raw = open('document.txt').read()"
      ],
      "execution_count": 49,
      "outputs": []
    },
    {
      "cell_type": "code",
      "metadata": {
        "colab": {
          "base_uri": "https://localhost:8080/"
        },
        "id": "aWXzYtAPBk43",
        "outputId": "73791dbd-4237-4f8b-a97f-e39801783751"
      },
      "source": [
        "type(raw)"
      ],
      "execution_count": 50,
      "outputs": [
        {
          "output_type": "execute_result",
          "data": {
            "text/plain": [
              "str"
            ]
          },
          "metadata": {
            "tags": []
          },
          "execution_count": 50
        }
      ]
    },
    {
      "cell_type": "code",
      "metadata": {
        "id": "gNISVf0UBnl3"
      },
      "source": [
        "tokens = word_tokenize(raw)"
      ],
      "execution_count": 51,
      "outputs": []
    },
    {
      "cell_type": "code",
      "metadata": {
        "colab": {
          "base_uri": "https://localhost:8080/"
        },
        "id": "Jb1CYTMiBrGJ",
        "outputId": "4a11baaf-0ba6-49f8-b625-801b97746aef"
      },
      "source": [
        "type(tokens)"
      ],
      "execution_count": 52,
      "outputs": [
        {
          "output_type": "execute_result",
          "data": {
            "text/plain": [
              "list"
            ]
          },
          "metadata": {
            "tags": []
          },
          "execution_count": 52
        }
      ]
    },
    {
      "cell_type": "code",
      "metadata": {
        "id": "GNauyeRyBtqb"
      },
      "source": [
        "words = [w.lower() for w in tokens]"
      ],
      "execution_count": 53,
      "outputs": []
    },
    {
      "cell_type": "code",
      "metadata": {
        "colab": {
          "base_uri": "https://localhost:8080/"
        },
        "id": "CU7MK8SSBwlK",
        "outputId": "5e82531e-e3f9-495a-92d0-67d5928e7bc3"
      },
      "source": [
        "type(words)"
      ],
      "execution_count": 54,
      "outputs": [
        {
          "output_type": "execute_result",
          "data": {
            "text/plain": [
              "list"
            ]
          },
          "metadata": {
            "tags": []
          },
          "execution_count": 54
        }
      ]
    },
    {
      "cell_type": "code",
      "metadata": {
        "id": "Q9RoYScUBy5y"
      },
      "source": [
        "vocab = sorted(set(words))"
      ],
      "execution_count": 55,
      "outputs": []
    },
    {
      "cell_type": "code",
      "metadata": {
        "colab": {
          "base_uri": "https://localhost:8080/"
        },
        "id": "k9yp8ALQB1dR",
        "outputId": "f2f19694-a083-405e-9236-114c503b86aa"
      },
      "source": [
        "type(vocab)"
      ],
      "execution_count": 56,
      "outputs": [
        {
          "output_type": "execute_result",
          "data": {
            "text/plain": [
              "list"
            ]
          },
          "metadata": {
            "tags": []
          },
          "execution_count": 56
        }
      ]
    },
    {
      "cell_type": "code",
      "metadata": {
        "id": "qEZuftyfB4SL"
      },
      "source": [
        "vocab.append('blog')"
      ],
      "execution_count": 57,
      "outputs": []
    },
    {
      "cell_type": "code",
      "metadata": {
        "colab": {
          "base_uri": "https://localhost:8080/"
        },
        "id": "enXwFp6eDH6u",
        "outputId": "6f7270f2-2a9c-4bb4-f6a9-fa16c094de6f"
      },
      "source": [
        "print(vocab)"
      ],
      "execution_count": 58,
      "outputs": [
        {
          "output_type": "stream",
          "text": [
            "[\"'m\", ',', '.', 'all', 'hello', 'i', 'rajesh', 'tiwari', 'blog']\n"
          ],
          "name": "stdout"
        }
      ]
    },
    {
      "cell_type": "code",
      "metadata": {
        "colab": {
          "base_uri": "https://localhost:8080/"
        },
        "id": "HpHOaPoZEfjN",
        "outputId": "1261b0c4-9d55-4897-ef37-91fbfb8ccc60"
      },
      "source": [
        "print(raw)"
      ],
      "execution_count": 59,
      "outputs": [
        {
          "output_type": "stream",
          "text": [
            "Hello All, I'm Rajesh Tiwari.\n"
          ],
          "name": "stdout"
        }
      ]
    },
    {
      "cell_type": "code",
      "metadata": {
        "colab": {
          "base_uri": "https://localhost:8080/",
          "height": 171
        },
        "id": "OS5eW6cNB6yn",
        "outputId": "c37c1081-b7ad-40b5-ad0d-b20a45998788"
      },
      "source": [
        "raw.append('blog')"
      ],
      "execution_count": 60,
      "outputs": [
        {
          "output_type": "error",
          "ename": "AttributeError",
          "evalue": "ignored",
          "traceback": [
            "\u001b[0;31m---------------------------------------------------------------------------\u001b[0m",
            "\u001b[0;31mAttributeError\u001b[0m                            Traceback (most recent call last)",
            "\u001b[0;32m<ipython-input-60-8e056f716da5>\u001b[0m in \u001b[0;36m<module>\u001b[0;34m()\u001b[0m\n\u001b[0;32m----> 1\u001b[0;31m \u001b[0mraw\u001b[0m\u001b[0;34m.\u001b[0m\u001b[0mappend\u001b[0m\u001b[0;34m(\u001b[0m\u001b[0;34m'blog'\u001b[0m\u001b[0;34m)\u001b[0m\u001b[0;34m\u001b[0m\u001b[0;34m\u001b[0m\u001b[0m\n\u001b[0m",
            "\u001b[0;31mAttributeError\u001b[0m: 'str' object has no attribute 'append'"
          ]
        }
      ]
    },
    {
      "cell_type": "code",
      "metadata": {
        "id": "Gfs2PZ2xCob-"
      },
      "source": [
        "query = 'Who knows?'"
      ],
      "execution_count": 61,
      "outputs": []
    },
    {
      "cell_type": "code",
      "metadata": {
        "id": "AoU0K2XgDFa1"
      },
      "source": [
        "beatles = ['john', 'paul', 'george', 'ringo']"
      ],
      "execution_count": 62,
      "outputs": []
    },
    {
      "cell_type": "code",
      "metadata": {
        "colab": {
          "base_uri": "https://localhost:8080/",
          "height": 171
        },
        "id": "AFs5FoWaE-Cz",
        "outputId": "52a14410-56d1-43da-bbf2-61ef9ed1da86"
      },
      "source": [
        "query + beatles"
      ],
      "execution_count": 63,
      "outputs": [
        {
          "output_type": "error",
          "ename": "TypeError",
          "evalue": "ignored",
          "traceback": [
            "\u001b[0;31m---------------------------------------------------------------------------\u001b[0m",
            "\u001b[0;31mTypeError\u001b[0m                                 Traceback (most recent call last)",
            "\u001b[0;32m<ipython-input-63-13a24f92f7f5>\u001b[0m in \u001b[0;36m<module>\u001b[0;34m()\u001b[0m\n\u001b[0;32m----> 1\u001b[0;31m \u001b[0mquery\u001b[0m \u001b[0;34m+\u001b[0m \u001b[0mbeatles\u001b[0m\u001b[0;34m\u001b[0m\u001b[0;34m\u001b[0m\u001b[0m\n\u001b[0m",
            "\u001b[0;31mTypeError\u001b[0m: can only concatenate str (not \"list\") to str"
          ]
        }
      ]
    }
  ]
}
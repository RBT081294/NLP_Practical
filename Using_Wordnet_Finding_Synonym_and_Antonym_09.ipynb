{
  "nbformat": 4,
  "nbformat_minor": 0,
  "metadata": {
    "colab": {
      "name": "Using Wordnet Finding Synonym and Antonym_09.ipynb",
      "provenance": [],
      "collapsed_sections": [],
      "include_colab_link": true
    },
    "kernelspec": {
      "name": "python3",
      "display_name": "Python 3"
    },
    "language_info": {
      "name": "python"
    }
  },
  "cells": [
    {
      "cell_type": "markdown",
      "metadata": {
        "id": "view-in-github",
        "colab_type": "text"
      },
      "source": [
        "<a href=\"https://colab.research.google.com/github/RBT081294/NLP_Practicals/blob/main/Using_Wordnet_Finding_Synonym_and_Antonym_09.ipynb\" target=\"_parent\"><img src=\"https://colab.research.google.com/assets/colab-badge.svg\" alt=\"Open In Colab\"/></a>"
      ]
    },
    {
      "cell_type": "markdown",
      "metadata": {
        "id": "RGj4sbFMf00R"
      },
      "source": [
        "**Using Wordnet Finding Synonym and Antonym**"
      ]
    },
    {
      "cell_type": "code",
      "metadata": {
        "colab": {
          "base_uri": "https://localhost:8080/"
        },
        "id": "7GHkSSkCgSah",
        "outputId": "bcda8c40-e736-4c62-c8e0-334aada7f06b"
      },
      "source": [
        "import nltk\n",
        "nltk.download('wordnet')"
      ],
      "execution_count": 1,
      "outputs": [
        {
          "output_type": "stream",
          "text": [
            "[nltk_data] Downloading package wordnet to /root/nltk_data...\n",
            "[nltk_data]   Unzipping corpora/wordnet.zip.\n"
          ],
          "name": "stdout"
        },
        {
          "output_type": "execute_result",
          "data": {
            "text/plain": [
              "True"
            ]
          },
          "metadata": {
            "tags": []
          },
          "execution_count": 1
        }
      ]
    },
    {
      "cell_type": "code",
      "metadata": {
        "colab": {
          "base_uri": "https://localhost:8080/"
        },
        "id": "SScELV08fmhE",
        "outputId": "51a63a87-61d6-4a9a-824f-0f2bf134bdb6"
      },
      "source": [
        "# First, you're going to need to import wordnet:\n",
        "from nltk.corpus import wordnet\n",
        "\n",
        "# Then, we're going to use the term \"program\" to find synsets like so:\n",
        "syns = wordnet.synsets(\"program\")\n",
        "\n",
        "# An example of a synset:\n",
        "print(syns[0].name())\n",
        "\n",
        "# Just the word:\n",
        "print(syns[0].lemmas()[0].name())\n",
        "\n",
        "# Definition of that first synset:\n",
        "print(syns[0].definition())\n",
        "\n",
        "# Examples of the word in use in sentences:\n",
        "print(syns[0].examples())\n"
      ],
      "execution_count": 2,
      "outputs": [
        {
          "output_type": "stream",
          "text": [
            "plan.n.01\n",
            "plan\n",
            "a series of steps to be carried out or goals to be accomplished\n",
            "['they drew up a six-step plan', 'they discussed plans for a new bond issue']\n"
          ],
          "name": "stdout"
        }
      ]
    },
    {
      "cell_type": "code",
      "metadata": {
        "colab": {
          "base_uri": "https://localhost:8080/"
        },
        "id": "ej5F2UZNggUw",
        "outputId": "f9ea8f1e-d019-4486-9d00-f9043c2c6aa2"
      },
      "source": [
        "import nltk\n",
        "from nltk.corpus import wordnet\n",
        "synonyms = []\n",
        "antonyms = []\n",
        "\n",
        "for syn in wordnet.synsets(\"good\"):\n",
        "\tfor l in syn.lemmas():\n",
        "\t\tsynonyms.append(l.name())\n",
        "\t\tif l.antonyms():\n",
        "\t\t\tantonyms.append(l.antonyms()[0].name())\n",
        "\n",
        "print(set(synonyms))\n",
        "print(set(antonyms))\n"
      ],
      "execution_count": 3,
      "outputs": [
        {
          "output_type": "stream",
          "text": [
            "{'well', 'near', 'soundly', 'practiced', 'upright', 'honest', 'safe', 'good', 'dear', 'just', 'adept', 'respectable', 'in_force', 'estimable', 'trade_good', 'honorable', 'expert', 'proficient', 'commodity', 'ripe', 'goodness', 'salutary', 'beneficial', 'right', 'dependable', 'skillful', 'sound', 'in_effect', 'serious', 'thoroughly', 'secure', 'unspoilt', 'skilful', 'effective', 'full', 'unspoiled', 'undecomposed'}\n",
            "{'bad', 'evil', 'ill', 'badness', 'evilness'}\n"
          ],
          "name": "stdout"
        }
      ]
    },
    {
      "cell_type": "code",
      "metadata": {
        "id": "N-SXEdGygjpO",
        "colab": {
          "base_uri": "https://localhost:8080/"
        },
        "outputId": "f6c2b16b-39b1-4ddf-803e-53b20a86ebf3"
      },
      "source": [
        "import nltk\n",
        "from nltk.corpus import wordnet\n",
        "# Let's compare the noun of \"ship\" and \"boat:\"\n",
        "\n",
        "w1 = wordnet.synset('run.v.01') # v here denotes the tag verb\n",
        "w2 = wordnet.synset('sprint.v.01')\n",
        "print(w1.wup_similarity(w2))\n"
      ],
      "execution_count": 4,
      "outputs": [
        {
          "output_type": "stream",
          "text": [
            "0.8571428571428571\n"
          ],
          "name": "stdout"
        }
      ]
    },
    {
      "cell_type": "code",
      "metadata": {
        "id": "YIeIkaWmgnRw",
        "colab": {
          "base_uri": "https://localhost:8080/"
        },
        "outputId": "8b780a7c-759c-4903-d899-96cc7229cbb3"
      },
      "source": [
        "w1 = wordnet.synset('ship.n.01')\n",
        "w2 = wordnet.synset('boat.n.01') # n denotes noun\n",
        "print(w1.wup_similarity(w2))\n"
      ],
      "execution_count": 5,
      "outputs": [
        {
          "output_type": "stream",
          "text": [
            "0.9090909090909091\n"
          ],
          "name": "stdout"
        }
      ]
    }
  ]
}
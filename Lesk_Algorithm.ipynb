{
  "nbformat": 4,
  "nbformat_minor": 0,
  "metadata": {
    "colab": {
      "name": "Lesk Algorithm.ipynb",
      "provenance": [],
      "collapsed_sections": [],
      "authorship_tag": "ABX9TyMhYDz1OS/P4xZ1EH851bs+",
      "include_colab_link": true
    },
    "kernelspec": {
      "name": "python3",
      "display_name": "Python 3"
    },
    "language_info": {
      "name": "python"
    }
  },
  "cells": [
    {
      "cell_type": "markdown",
      "metadata": {
        "id": "view-in-github",
        "colab_type": "text"
      },
      "source": [
        "<a href=\"https://colab.research.google.com/github/RBT081294/NLP_Practical/blob/main/Lesk_Algorithm.ipynb\" target=\"_parent\"><img src=\"https://colab.research.google.com/assets/colab-badge.svg\" alt=\"Open In Colab\"/></a>"
      ]
    },
    {
      "cell_type": "code",
      "metadata": {
        "colab": {
          "base_uri": "https://localhost:8080/"
        },
        "id": "Rd4hDNFBoPT8",
        "outputId": "a5e01ce3-a819-4ee2-ba0a-95800064aae1"
      },
      "source": [
        "pip install pywsd==1.1.1"
      ],
      "execution_count": null,
      "outputs": [
        {
          "output_type": "stream",
          "text": [
            "Collecting pywsd==1.1.1\n",
            "  Downloading https://files.pythonhosted.org/packages/d9/16/3b7c1348c010a6b156dd1ab1791038b34b7b876e787f49387578519952e4/pywsd-1.1.1.tar.gz\n",
            "Requirement already satisfied: nltk in /usr/local/lib/python3.7/dist-packages (from pywsd==1.1.1) (3.6.2)\n",
            "Requirement already satisfied: numpy in /usr/local/lib/python3.7/dist-packages (from pywsd==1.1.1) (1.19.5)\n",
            "Requirement already satisfied: joblib in /usr/local/lib/python3.7/dist-packages (from nltk->pywsd==1.1.1) (1.0.1)\n",
            "Requirement already satisfied: tqdm in /usr/local/lib/python3.7/dist-packages (from nltk->pywsd==1.1.1) (4.41.1)\n",
            "Requirement already satisfied: regex in /usr/local/lib/python3.7/dist-packages (from nltk->pywsd==1.1.1) (2019.12.20)\n",
            "Requirement already satisfied: click in /usr/local/lib/python3.7/dist-packages (from nltk->pywsd==1.1.1) (7.1.2)\n",
            "Building wheels for collected packages: pywsd\n",
            "  Building wheel for pywsd (setup.py) ... \u001b[?25l\u001b[?25hdone\n",
            "  Created wheel for pywsd: filename=pywsd-1.1.1-cp37-none-any.whl size=12805 sha256=109d58776d8050509b4ed7446573037e3f0ef78c53d48fe1b9a960dc631a721f\n",
            "  Stored in directory: /root/.cache/pip/wheels/b8/11/47/cba87016528b404a642fa607d0811e9c577fd90eee8dd05a7d\n",
            "Successfully built pywsd\n",
            "Installing collected packages: pywsd\n",
            "  Found existing installation: pywsd 1.0\n",
            "    Uninstalling pywsd-1.0:\n",
            "      Successfully uninstalled pywsd-1.0\n",
            "Successfully installed pywsd-1.1.1\n"
          ],
          "name": "stdout"
        }
      ]
    },
    {
      "cell_type": "code",
      "metadata": {
        "colab": {
          "base_uri": "https://localhost:8080/"
        },
        "id": "6Pdu6x7DtrLW",
        "outputId": "976e7e4a-e736-4c0d-efb1-e6caaf90cc38"
      },
      "source": [
        "import nltk\n",
        "nltk.download('popular')"
      ],
      "execution_count": null,
      "outputs": [
        {
          "output_type": "stream",
          "text": [
            "[nltk_data] Downloading collection 'popular'\n",
            "[nltk_data]    | \n",
            "[nltk_data]    | Downloading package cmudict to /root/nltk_data...\n",
            "[nltk_data]    |   Unzipping corpora/cmudict.zip.\n",
            "[nltk_data]    | Downloading package gazetteers to /root/nltk_data...\n",
            "[nltk_data]    |   Unzipping corpora/gazetteers.zip.\n",
            "[nltk_data]    | Downloading package genesis to /root/nltk_data...\n",
            "[nltk_data]    |   Unzipping corpora/genesis.zip.\n",
            "[nltk_data]    | Downloading package gutenberg to /root/nltk_data...\n",
            "[nltk_data]    |   Unzipping corpora/gutenberg.zip.\n",
            "[nltk_data]    | Downloading package inaugural to /root/nltk_data...\n",
            "[nltk_data]    |   Unzipping corpora/inaugural.zip.\n",
            "[nltk_data]    | Downloading package movie_reviews to\n",
            "[nltk_data]    |     /root/nltk_data...\n",
            "[nltk_data]    |   Unzipping corpora/movie_reviews.zip.\n",
            "[nltk_data]    | Downloading package names to /root/nltk_data...\n",
            "[nltk_data]    |   Unzipping corpora/names.zip.\n",
            "[nltk_data]    | Downloading package shakespeare to /root/nltk_data...\n",
            "[nltk_data]    |   Unzipping corpora/shakespeare.zip.\n",
            "[nltk_data]    | Downloading package stopwords to /root/nltk_data...\n",
            "[nltk_data]    |   Package stopwords is already up-to-date!\n",
            "[nltk_data]    | Downloading package treebank to /root/nltk_data...\n",
            "[nltk_data]    |   Unzipping corpora/treebank.zip.\n",
            "[nltk_data]    | Downloading package twitter_samples to\n",
            "[nltk_data]    |     /root/nltk_data...\n",
            "[nltk_data]    |   Unzipping corpora/twitter_samples.zip.\n",
            "[nltk_data]    | Downloading package omw to /root/nltk_data...\n",
            "[nltk_data]    |   Unzipping corpora/omw.zip.\n",
            "[nltk_data]    | Downloading package wordnet to /root/nltk_data...\n",
            "[nltk_data]    |   Unzipping corpora/wordnet.zip.\n",
            "[nltk_data]    | Downloading package wordnet_ic to /root/nltk_data...\n",
            "[nltk_data]    |   Unzipping corpora/wordnet_ic.zip.\n",
            "[nltk_data]    | Downloading package words to /root/nltk_data...\n",
            "[nltk_data]    |   Unzipping corpora/words.zip.\n",
            "[nltk_data]    | Downloading package maxent_ne_chunker to\n",
            "[nltk_data]    |     /root/nltk_data...\n",
            "[nltk_data]    |   Unzipping chunkers/maxent_ne_chunker.zip.\n",
            "[nltk_data]    | Downloading package punkt to /root/nltk_data...\n",
            "[nltk_data]    |   Unzipping tokenizers/punkt.zip.\n",
            "[nltk_data]    | Downloading package snowball_data to\n",
            "[nltk_data]    |     /root/nltk_data...\n",
            "[nltk_data]    | Downloading package averaged_perceptron_tagger to\n",
            "[nltk_data]    |     /root/nltk_data...\n",
            "[nltk_data]    |   Unzipping taggers/averaged_perceptron_tagger.zip.\n",
            "[nltk_data]    | \n",
            "[nltk_data]  Done downloading collection popular\n"
          ],
          "name": "stderr"
        },
        {
          "output_type": "execute_result",
          "data": {
            "text/plain": [
              "True"
            ]
          },
          "metadata": {
            "tags": []
          },
          "execution_count": 41
        }
      ]
    },
    {
      "cell_type": "code",
      "metadata": {
        "colab": {
          "base_uri": "https://localhost:8080/"
        },
        "id": "f82hzGt_snge",
        "outputId": "94249795-d7f3-40e5-fa73-29bcd04171e6"
      },
      "source": [
        "import wordnet as wn\n",
        "from pywsd.lesk import simple_lesk  \n",
        "sentences = ['The workers at the plant were overworked',  \n",
        "'The plant was no longer bearing flowers',\n",
        "'The workers at the industrial plant were overworked']  \n",
        "# calling the lesk function and printing results for both the sentences  \n",
        "print (\"Context-1:\", sentences[0])  \n",
        "answer = simple_lesk(sentences[0],'plant')  \n",
        "print (\"Sense:\", answer)  \n",
        "print (\"Definition : \", answer.definition())  "
      ],
      "execution_count": null,
      "outputs": [
        {
          "output_type": "stream",
          "text": [
            "Context-1: The workers at the plant were overworked\n",
            "Sense: Synset('plant.v.06')\n",
            "Definition :  put firmly in the mind\n"
          ],
          "name": "stdout"
        }
      ]
    },
    {
      "cell_type": "code",
      "metadata": {
        "colab": {
          "base_uri": "https://localhost:8080/"
        },
        "id": "oD_FUf3suiYO",
        "outputId": "36f1d268-4cc4-49d0-fd86-394dac13bdd7"
      },
      "source": [
        "# calling the lesk function and printing results  \n",
        "print (\"Context-1:\", sentences[1])  \n",
        "answer = simple_lesk(sentences[1],'plant')  \n",
        "print (\"Sense:\", answer)  \n",
        "print (\"Definition : \", answer.definition())  "
      ],
      "execution_count": null,
      "outputs": [
        {
          "output_type": "stream",
          "text": [
            "Context-1: The plant was no longer bearing flowers\n",
            "Sense: Synset('plant.v.01')\n",
            "Definition :  put or set (seeds, seedlings, or plants) into the ground\n"
          ],
          "name": "stdout"
        }
      ]
    },
    {
      "cell_type": "code",
      "metadata": {
        "colab": {
          "base_uri": "https://localhost:8080/"
        },
        "id": "qG0PgNXQuwSL",
        "outputId": "4dd5be64-33e0-4719-b451-e5a8e4b6c784"
      },
      "source": [
        "print (\"Context-3:\", sentences[2])  \n",
        "answer = simple_lesk(sentences[2],'plant')  \n",
        "print (\"Sense:\", answer)  \n",
        "print (\"Definition : \", answer.definition()) "
      ],
      "execution_count": null,
      "outputs": [
        {
          "output_type": "stream",
          "text": [
            "Context-3: The workers at the industrial plant were overworked\n",
            "Sense: Synset('plant.n.01')\n",
            "Definition :  buildings for carrying on industrial labor\n"
          ],
          "name": "stdout"
        }
      ]
    }
  ]
}